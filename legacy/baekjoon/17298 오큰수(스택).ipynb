{
 "cells": [
  {
   "cell_type": "markdown",
   "id": "523f001c",
   "metadata": {},
   "source": [
    "## 17298번 오큰수\n",
    "\n",
    "### 문제 \n",
    "크기가 N인 수열 A = A1, A2, ..., AN이 있다. 수열의 각 원소 Ai에 대해서 오큰수 NGE(i)를 구하려고 한다. Ai의 오큰수는 오른쪽에 있으면서 Ai보다 큰 수 중에서 가장 왼쪽에 있는 수를 의미한다. 그러한 수가 없는 경우에 오큰수는 -1이다.\n",
    "\n",
    "예를 들어, A = [3, 5, 2, 7]인 경우 NGE(1) = 5, NGE(2) = 7, NGE(3) = 7, NGE(4) = -1이다. A = [9, 5, 4, 8]인 경우에는 NGE(1) = -1, NGE(2) = 8, NGE(3) = 8, NGE(4) = -1이다.\n",
    "\n",
    "### 입력\n",
    "\n",
    "첫째 줄에 수열 A의 크기 N (1 ≤ N ≤ 1,000,000)이 주어진다. 둘째 줄에 수열 A의 원소 A1, A2, ..., AN (1 ≤ Ai ≤ 1,000,000)이 주어진다.\n",
    "\n",
    "### 출력\n",
    "\n",
    "총 N개의 수 NGE(1), NGE(2), ..., NGE(N)을 공백으로 구분해 출력한다."
   ]
  },
  {
   "cell_type": "markdown",
   "id": "1a4afce7",
   "metadata": {},
   "source": [
    "### 문제 풀이 과정\n",
    "\n",
    "- A_i보다 오른쪽에 위치함\n",
    "- A_i보다 큰 수\n",
    "- 위를 만족하는 수 중 가장 왼쪽에 있는 수\n",
    "\n",
    "하나씩 확인을 해보자.\n",
    "\n",
    "자신과 비교해서 큰 수가 나올 때까지 for문 반복하고\n",
    "N-1번째에도 작다면 -1을 입력한다.\n",
    " "
   ]
  },
  {
   "cell_type": "code",
   "execution_count": 13,
   "id": "056cb3be",
   "metadata": {},
   "outputs": [
    {
     "name": "stdout",
     "output_type": "stream",
     "text": [
      "4\n",
      "3 5 2 7\n",
      "5 7 7 -1\n"
     ]
    }
   ],
   "source": [
    "# 첫 시도 -> 시간초과 발생 O(N^2)방법\n",
    "\n",
    "N = int(input())\n",
    "A = list(map(int,input().split()))\n",
    "NGE = [ -1 for i in range(N)]\n",
    "\n",
    "for i in range(N):\n",
    "    for j in range(i+1,N):\n",
    "        if A[i] < A[j]:\n",
    "            NGE[i] = A[j]\n",
    "            break\n",
    "            \n",
    "# 마지막은 항상 -1이 나온다.\n",
    "print(*NGE)"
   ]
  },
  {
   "cell_type": "code",
   "execution_count": 15,
   "id": "bf511c17",
   "metadata": {},
   "outputs": [
    {
     "name": "stdout",
     "output_type": "stream",
     "text": [
      "4\n",
      "3 5 2 7\n",
      "5 7 7 -1\n"
     ]
    }
   ],
   "source": [
    "# 두 번째 시도 -> 시간복잡도 O(N)\n",
    "# 인덱스 활용\n",
    "\n",
    "N = int(input())\n",
    "A = list(map(int,input().split()))\n",
    "NGE = [ -1 for i in range(N)]\n",
    "\n",
    "# 스택을 이용해 오큰수가 정해지지 않은 인덱스를 저장해준다.\n",
    "idx = [0]\n",
    "for i in range(1,N):\n",
    "    while idx and A[idx[-1]] < A[i]:\n",
    "        NGE[idx.pop()] = A[i]\n",
    "    idx.append(i)\n",
    "            \n",
    "# 마지막은 항상 -1이 나온다.\n",
    "print(*NGE)"
   ]
  }
 ],
 "metadata": {
  "kernelspec": {
   "display_name": "Python 3 (ipykernel)",
   "language": "python",
   "name": "python3"
  },
  "language_info": {
   "codemirror_mode": {
    "name": "ipython",
    "version": 3
   },
   "file_extension": ".py",
   "mimetype": "text/x-python",
   "name": "python",
   "nbconvert_exporter": "python",
   "pygments_lexer": "ipython3",
   "version": "3.8.12"
  }
 },
 "nbformat": 4,
 "nbformat_minor": 5
}
