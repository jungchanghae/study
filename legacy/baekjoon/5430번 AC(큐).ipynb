{
 "cells": [
  {
   "cell_type": "markdown",
   "id": "58472dab",
   "metadata": {},
   "source": [
    "## 5430번\n",
    "\n",
    "### 문제\n",
    "\n",
    "선영이는 주말에 할 일이 없어서 새로운 언어 AC를 만들었다. AC는 정수 배열에 연산을 하기 위해 만든 언어이다. 이 언어에는 두 가지 함수 R(뒤집기)과 D(버리기)가 있다.\n",
    "\n",
    "함수 R은 배열에 있는 수의 순서를 뒤집는 함수이고, D는 첫 번째 수를 버리는 함수이다. 배열이 비어있는데 D를 사용한 경우에는 에러가 발생한다.\n",
    "\n",
    "함수는 조합해서 한 번에 사용할 수 있다. 예를 들어, \"AB\"는 A를 수행한 다음에 바로 이어서 B를 수행하는 함수이다. 예를 들어, \"RDD\"는 배열을 뒤집은 다음 처음 두 수를 버리는 함수이다.\n",
    "\n",
    "배열의 초기값과 수행할 함수가 주어졌을 때, 최종 결과를 구하는 프로그램을 작성하시오.\n",
    "\n",
    "### 입력\n",
    "\n",
    "첫째 줄에 테스트 케이스의 개수 T가 주어진다. T는 최대 100이다.\n",
    "\n",
    "각 테스트 케이스의 첫째 줄에는 수행할 함수 p가 주어진다. p의 길이는 1보다 크거나 같고, 100,000보다 작거나 같다.\n",
    "\n",
    "다음 줄에는 배열에 들어있는 수의 개수 n이 주어진다. (0 ≤ n ≤ 100,000)\n",
    "\n",
    "다음 줄에는 [x1,...,xn]과 같은 형태로 배열에 들어있는 정수가 주어진다. (1 ≤ xi ≤ 100)\n",
    "\n",
    "전체 테스트 케이스에 주어지는 p의 길이의 합과 n의 합은 70만을 넘지 않는다.\n",
    "\n",
    "\n",
    "### 출력\n",
    "\n",
    "각 테스트 케이스에 대해서, 입력으로 주어진 정수 배열에 함수를 수행한 결과를 출력한다. 만약, 에러가 발생한 경우에는 error를 출력한다."
   ]
  },
  {
   "cell_type": "markdown",
   "id": "ae2e6a84",
   "metadata": {},
   "source": [
    "### 문제 접근\n",
    "\n",
    "- R : 배열을 뒤집는다.\n",
    "- D : 첫 번째 수를 버린다.\n",
    "- 입력된 배열에서 정수만 빼야한다.\n",
    "- 큐를 이용해 배열을 뒤집고, pop한다.\n",
    "\n",
    "-> 배열을 뒤집는 과정에서 시간초과가 발생\n",
    "- 배열을 뒤집지 않고, 횟수만 생각하자."
   ]
  },
  {
   "cell_type": "code",
   "execution_count": 25,
   "id": "df52f7c9",
   "metadata": {},
   "outputs": [
    {
     "name": "stdout",
     "output_type": "stream",
     "text": [
      "4\n",
      "RDD\n",
      "4\n",
      "[1,2,3,4]\n",
      "[2,1]\n",
      "DD\n",
      "1\n",
      "[42]\n",
      "error\n",
      "RRD\n",
      "6\n",
      "[1,1,2,3,5,8]\n",
      "[1,2,3,5,8]\n",
      "D\n",
      "0\n",
      "[]\n",
      "error\n"
     ]
    }
   ],
   "source": [
    "# 첫 시도 -> 시간 초과\n",
    "from collections import deque\n",
    "t = int(input())\n",
    "\n",
    "for _ in range(t):\n",
    "    p = list(input())\n",
    "    n = int(input())\n",
    "    # []를 제외하고 숫자만 받아준다.\n",
    "    arr = deque(input()[1:-1].split(','))\n",
    "    \n",
    "    # 만약 n이 0이면 빈 큐만들기\n",
    "    if n == 0:\n",
    "        arr = deque()\n",
    "    \n",
    "    for i in p:\n",
    "        if i == 'R':\n",
    "            arr.reverse()\n",
    "        elif i == 'D':\n",
    "            # arr이 비어있지 않은 경우 왼쪽 수 버리기\n",
    "            if arr:\n",
    "                arr.popleft()\n",
    "            # 비어있는 경우 'error' 출력\n",
    "            else:\n",
    "                print('error')\n",
    "                break\n",
    "    else:\n",
    "        print('['+','.join(arr)+']')"
   ]
  },
  {
   "cell_type": "code",
   "execution_count": 11,
   "id": "f9ee801f",
   "metadata": {},
   "outputs": [],
   "source": [
    "arr.reverse()"
   ]
  },
  {
   "cell_type": "code",
   "execution_count": 14,
   "id": "d158b97c",
   "metadata": {
    "scrolled": true
   },
   "outputs": [
    {
     "data": {
      "text/plain": [
       "'1'"
      ]
     },
     "execution_count": 14,
     "metadata": {},
     "output_type": "execute_result"
    }
   ],
   "source": [
    "arr.popleft()"
   ]
  },
  {
   "cell_type": "code",
   "execution_count": 26,
   "id": "54d7050d",
   "metadata": {
    "scrolled": true
   },
   "outputs": [
    {
     "name": "stdout",
     "output_type": "stream",
     "text": [
      "4\n",
      "RDD\n",
      "4\n",
      "[1,2,3,4]\n",
      "[2,1]\n",
      "DD\n",
      "1\n",
      "[42]\n",
      "error\n",
      "RRD\n",
      "6\n",
      "[1,1,2,3,5,8]\n",
      "[1,2,3,5,8]\n",
      "D\n",
      "0\n",
      "[]\n",
      "error\n"
     ]
    }
   ],
   "source": [
    "# 첫 시도 -> 시간 초과\n",
    "from collections import deque\n",
    "t = int(input())\n",
    "\n",
    "for _ in range(t):\n",
    "    p = list(input())\n",
    "    n = int(input())\n",
    "    # []를 제외하고 숫자만 받아준다.\n",
    "    arr = deque(input()[1:-1].split(','))\n",
    "    \n",
    "    # 만약 n이 0이면 빈 큐만들기\n",
    "    if n == 0:\n",
    "        arr = deque()\n",
    "    \n",
    "    reverse_num = 0\n",
    "    for i in p:\n",
    "        if i == 'R':\n",
    "            reverse_num += 1\n",
    "        elif i == 'D':\n",
    "            # arr이 비어있지 않은 경우 왼쪽 수 버리기\n",
    "            if arr:\n",
    "                # 짝수번 뒤집는 경우 앞에꺼 pop\n",
    "                if reverse_num % 2 == 0:\n",
    "                    arr.popleft()\n",
    "                # 홀수번 뒤집는 경우 뒤에꺼 pop\n",
    "                else:\n",
    "                    arr.pop()\n",
    "            # 비어있는 경우 'error' 출력\n",
    "            else:\n",
    "                print('error')\n",
    "                break\n",
    "    else:\n",
    "        # 짝수번 - 그대로 출력\n",
    "        if reverse_num % 2 == 0:\n",
    "            print('['+','.join(arr)+']')\n",
    "        # 홀수번 - 뒤집어서 출력\n",
    "        else:\n",
    "            arr.reverse()\n",
    "            print('['+','.join(arr)+']')"
   ]
  }
 ],
 "metadata": {
  "kernelspec": {
   "display_name": "Python 3 (ipykernel)",
   "language": "python",
   "name": "python3"
  },
  "language_info": {
   "codemirror_mode": {
    "name": "ipython",
    "version": 3
   },
   "file_extension": ".py",
   "mimetype": "text/x-python",
   "name": "python",
   "nbconvert_exporter": "python",
   "pygments_lexer": "ipython3",
   "version": "3.8.12"
  }
 },
 "nbformat": 4,
 "nbformat_minor": 5
}
