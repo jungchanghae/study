{
 "cells": [
  {
   "cell_type": "markdown",
   "id": "6f928f5c",
   "metadata": {},
   "source": [
    "## 2981 검문\n",
    "\n",
    "### 문제\n",
    "##### 트럭을 타고 이동하던 상근이는 경찰의 검문을 받게 되었다. 경찰은 상근이가 운반하던 화물을 하나하나 모두 확인할 것이기 때문에, 검문하는데 엄청나게 오랜 시간이 걸린다.상근이는 시간을 때우기 위해서 수학 게임을 하기로 했다. \n",
    "##### 먼저 근처에 보이는 숫자 N개를 종이에 적는다. 그 다음, 종이에 적은 수를 M으로 나누었을 때, 나머지가 모두 같게 되는 M을 모두 찾으려고 한다. M은 1보다 커야 한다. N개의 수가 주어졌을 때, 가능한 M을 모두 찾는 프로그램을 작성하시오.\n",
    "\n",
    "### 입력\n",
    "##### 첫째 줄에 종이에 적은 수의 개수 N이 주어진다. (2 ≤ N ≤ 100)\n",
    "##### 다음 줄부터 N개 줄에는 종이에 적은 수가 하나씩 주어진다. 이 수는 모두 1보다 크거나 같고, 1,000,000,000보다 작거나 같은 자연수이다. 같은 수가 두 번 이상 주어지지 않는다.\n",
    "##### 항상 M이 하나 이상 존재하는 경우만 입력으로 주어진다.\n",
    "\n",
    "### 출력\n",
    "##### 첫째 줄에 가능한 M을 공백으로 구분하여 모두 출력한다. 이때, M은 증가하는 순서이어야 한다."
   ]
  },
  {
   "cell_type": "markdown",
   "id": "435fb0a2",
   "metadata": {},
   "source": [
    "## 문제 풀이\n",
    "\n",
    "#### 각 리스트 N의 값을 M으로 나누고, 나머지가 같다는 식을 작성해보면\n",
    "##### N[0] = Q[0] * M + R\n",
    "##### N[1] = Q[1] * M + R\n",
    "##### N[2] = Q[2] * M + R\n",
    "##### .................................\n",
    "#### 이를 바탕으로 서로 빼준다면,\n",
    "##### N[1] - N[0] = (Q[1] - Q[0]) * M\n",
    "##### N[2] - N[1] = (Q[2] - Q[1]) * M\n",
    "##### N[2] - N[0]은 다른 것들의 합으로 표현할 수 있다 ex) N[1] - N[0] + N[2] - N[1]\n",
    "\n",
    "#### 즉 인접한 값의 차이는 M을 공약수로 가진다.\n",
    "#### 모든 공약수는 최대 공약수의 약수이다. 라는 성질을 이용하여 코드를 작성해보기로 했다.\n"
   ]
  },
  {
   "cell_type": "code",
   "execution_count": 3,
   "id": "365bfd3c",
   "metadata": {},
   "outputs": [
    {
     "name": "stdout",
     "output_type": "stream",
     "text": [
      "3\n",
      "6\n",
      "34\n",
      "38\n",
      "2 4\n"
     ]
    }
   ],
   "source": [
    "import math\n",
    "\n",
    "loop = int(input())\n",
    "\n",
    "# N을 받아준다.\n",
    "num = []\n",
    "for _ in range(loop):\n",
    "    num.append(int(input()))\n",
    "num.sort()\n",
    "\n",
    "# M은 인접한 값의 차이들의 공약수\n",
    "num_d = []\n",
    "for i in range(1,len(num)):\n",
    "    num_d.append(num[i]-num[i-1])\n",
    "\n",
    "# gcd를 구하기 위해 함수 사용 (list를 넣기 위해선 *가 필요)\n",
    "g = math.gcd(*num_d)\n",
    "\n",
    "M = [g]\n",
    "for m in range(2,int(math.sqrt(g))+1):\n",
    "    if (g % m==0):\n",
    "        M.append(m)\n",
    "        M.append(g//m)\n",
    "\n",
    "M = list(set(M))\n",
    "M.sort()\n",
    "print(*M)"
   ]
  },
  {
   "cell_type": "markdown",
   "id": "7a7d3493",
   "metadata": {},
   "source": [
    "### 알게된 사실\n",
    "#### python에서 list의 각각의 값을 대입하고, 출력할때 *를 이용하면 된다."
   ]
  }
 ],
 "metadata": {
  "kernelspec": {
   "display_name": "Python 3 (ipykernel)",
   "language": "python",
   "name": "python3"
  },
  "language_info": {
   "codemirror_mode": {
    "name": "ipython",
    "version": 3
   },
   "file_extension": ".py",
   "mimetype": "text/x-python",
   "name": "python",
   "nbconvert_exporter": "python",
   "pygments_lexer": "ipython3",
   "version": "3.9.7"
  }
 },
 "nbformat": 4,
 "nbformat_minor": 5
}
