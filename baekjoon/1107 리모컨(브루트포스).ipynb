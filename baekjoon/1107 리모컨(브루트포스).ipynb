{
 "cells": [
  {
   "cell_type": "markdown",
   "id": "ac7ac202",
   "metadata": {},
   "source": [
    "## 1107번 리모컨\n",
    "\n",
    "### 문제\n",
    "\n",
    "수빈이는 TV를 보고 있다. 수빈이는 채널을 돌리려고 했지만, 버튼을 너무 세게 누르는 바람에, 일부 숫자 버튼이 고장났다.\n",
    "\n",
    "리모컨에는 버튼이 0부터 9까지 숫자, +와 -가 있다. +를 누르면 현재 보고있는 채널에서 +1된 채널로 이동하고, -를 누르면 -1된 채널로 이동한다. 채널 0에서 -를 누른 경우에는 채널이 변하지 않고, 채널은 무한대 만큼 있다.\n",
    "\n",
    "수빈이가 지금 이동하려고 하는 채널은 N이다. 어떤 버튼이 고장났는지 주어졌을 때, 채널 N으로 이동하기 위해서 버튼을 최소 몇 번 눌러야하는지 구하는 프로그램을 작성하시오. \n",
    "\n",
    "수빈이가 지금 보고 있는 채널은 100번이다.\n",
    "\n",
    "### 입력\n",
    "\n",
    "첫째 줄에 수빈이가 이동하려고 하는 채널 N (0 ≤ N ≤ 500,000)이 주어진다.  둘째 줄에는 고장난 버튼의 개수 M (0 ≤ M ≤ 10)이 주어진다. 고장난 버튼이 있는 경우에는 셋째 줄에는 고장난 버튼이 주어지며, 같은 버튼이 여러 번 주어지는 경우는 없다.\n",
    "\n",
    "### 출력\n",
    "\n",
    "첫째 줄에 채널 N으로 이동하기 위해 버튼을 최소 몇 번 눌러야 하는지를 출력한다."
   ]
  },
  {
   "cell_type": "markdown",
   "id": "df6e0240",
   "metadata": {},
   "source": [
    "### 문제 접근\n",
    "\n",
    "- 100번에서 시작해서 N 채널까지 이동하는 경우의 수를 구해야한다.\n",
    "- 고장난 버튼은 눌리지 않는다. 즉 가장 가까운 채널에서 + -로 이동을 해야한다.\n",
    "- 답 : 가장 가까운 채널의 자리 수 + 그 채널과 목표 채널의 차이"
   ]
  },
  {
   "cell_type": "code",
   "execution_count": 13,
   "id": "2ff91590",
   "metadata": {},
   "outputs": [
    {
     "name": "stdout",
     "output_type": "stream",
     "text": [
      "500000\n",
      "8\n",
      "0 2 3 4 6 7 8 9\n",
      "11117\n"
     ]
    }
   ],
   "source": [
    "n = int(input())\n",
    "m = int(input())\n",
    "\n",
    "# 목표와 현재 채널의 차이\n",
    "result = abs(100 - n)\n",
    "\n",
    "# m != 0 일때만 입력\n",
    "if m: \n",
    "    err_botten = list(input().split())\n",
    "else:\n",
    "    err_botten = []\n",
    "\n",
    "# 모든 경우를 검사하는 루프\n",
    "for num in range(1000001):\n",
    "    for channel_n in str(num):\n",
    "        if channel_n in err_botten:\n",
    "            break # 해당 번호가 누를 수 없는 번호일 경우 중지\n",
    "    # 위에서 break에 걸리지 않았을 경우\n",
    "    else: result = min(result, len(str(num)) + abs(num - n))\n",
    "\n",
    "print(result)"
   ]
  },
  {
   "cell_type": "markdown",
   "id": "ec59fe44",
   "metadata": {},
   "source": [
    "### 알게된 사실\n",
    "\n",
    "for문 안에서 if문을 이용해 break를 사용한 경우 for문 이후에 break가 걸렸는지 아닌지 판단할 수 있다.\n",
    "(flag를 사용하지 않아도 된다.)"
   ]
  }
 ],
 "metadata": {
  "kernelspec": {
   "display_name": "Python 3 (ipykernel)",
   "language": "python",
   "name": "python3"
  },
  "language_info": {
   "codemirror_mode": {
    "name": "ipython",
    "version": 3
   },
   "file_extension": ".py",
   "mimetype": "text/x-python",
   "name": "python",
   "nbconvert_exporter": "python",
   "pygments_lexer": "ipython3",
   "version": "3.8.12"
  }
 },
 "nbformat": 4,
 "nbformat_minor": 5
}
