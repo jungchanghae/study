{
 "cells": [
  {
   "cell_type": "markdown",
   "id": "4ff026ad",
   "metadata": {},
   "source": [
    "# 1300 : K번째 수\n",
    "세준이는 크기가 N×N인 배열 A를 만들었다. 배열에 들어있는 수 A[i][j] = i×j 이다.  \n",
    "이 수를 일차원 배열 B에 넣으면 B의 크기는 N×N이 된다.  \n",
    "B를 오름차순 정렬했을 때, B[k]를 구해보자.  \n",
    "\n",
    "배열 A와 B의 인덱스는 1부터 시작한다.  \n",
    "\n",
    "## 입력\n",
    "\n",
    "첫째 줄에 배열의 크기 N이 주어진다.  \n",
    "N은 105보다 작거나 같은 자연수이다.  \n",
    "둘째 줄에 k가 주어진다.  \n",
    "k는 min(109, N2)보다 작거나 같은 자연수이다.  \n",
    "\n",
    "## 출력\n",
    "\n",
    "B[k]를 출력한다.  \n",
    "\n",
    "\n",
    "## 문제 풀이\n",
    "\n",
    "대각행렬을 기준으로 위쪽과 아래쪽은 대칭이다.  \n",
    "2*2 = 1 2 2 4 \n",  
    "\n",
    "3*3 = 1 2 2 3 3 4 6 6 9 \n",  
    "\n",
    "4*4 = 1 2 2 3 3 4 4 4 6 6 8 8 9 12 12 16 \n",  
    "\n",
    "5*5 = 1 2 2 3 3 4 4 4 5 5 6 6 8 8 9 10 10 12 12 15 15 16 20 20 25 (5의 배수 (5 10 15 20) 2개씩, 25 한 개)"  
   ]
  },
  {
   "cell_type": "code",
   "execution_count": 2,
   "id": "51a5bc5e",
   "metadata": {},
   "outputs": [
    {
     "name": "stdout",
     "output_type": "stream",
     "text": [
      "3\n",
      "7\n",
      "6\n"
     ]
    }
   ],
   "source": [
    "n = int(input())\n",
    "k = int(input())\n",
    "\n",
    "# 1번째와 n번째는 당연하므로 계산과정 생략\n",
    "if k == 1:\n",
    "    print(1)\n",
    "elif k == n*n:\n",
    "    print(n*n)\n",
    "else:\n",
    "    start = 1\n",
    "    end = k\n",
    "    while (start <= end):\n",
    "        mid = (start + end) // 2\n",
    "        count = 0\n",
    "        for i in range(1,n+1):\n",
    "            # mid보다 작은 수의 개수는 mid를 각 행으로 나눈 값이 된다.\n",
    "            count += min(mid//i,n)\n",
    "        if count >= k:\n",
    "            result = mid\n",
    "            end = mid -1\n",
    "        else:\n",
    "            start = mid + 1\n",
    "    print(result)"
   ]
  }
 ],
 "metadata": {
  "kernelspec": {
   "display_name": "Python 3 (ipykernel)",
   "language": "python",
   "name": "python3"
  },
  "language_info": {
   "codemirror_mode": {
    "name": "ipython",
    "version": 3
   },
   "file_extension": ".py",
   "mimetype": "text/x-python",
   "name": "python",
   "nbconvert_exporter": "python",
   "pygments_lexer": "ipython3",
   "version": "3.8.13"
  }
 },
 "nbformat": 4,
 "nbformat_minor": 5
}
