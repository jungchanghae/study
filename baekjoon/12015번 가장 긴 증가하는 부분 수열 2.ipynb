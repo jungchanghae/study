{
 "cells": [
  {
   "cell_type": "markdown",
   "id": "3c853aa1",
   "metadata": {},
   "source": [
    "# 12015번 : 가장 긴 증가하는 부분 수열 2\n",
    "\n",
    "## 문제 \n",
    "수열 A가 주어졌을 때, 가장 긴 증가하는 부분 수열을 구하는 프로그램을 작성하시오.  \n",
    "\n",
    "예를 들어, 수열 A = {10, 20, 10, 30, 20, 50} 인 경우에 가장 긴 증가하는 부분 수열은 A = {10, 20, 10, 30, 20, 50} 이고, 길이는 4이다.  \n",
    "\n",
    "### 입력\n",
    "첫째 줄에 수열 A의 크기 N (1 ≤ N ≤ 1,000,000)이 주어진다.  \n",
    "\n",
    "둘째 줄에는 수열 A를 이루고 있는 Ai가 주어진다. (1 ≤ Ai ≤ 1,000,000)  \n",
    "\n",
    "### 출력\n",
    "\n",
    "첫째 줄에 수열 A의 가장 긴 증가하는 부분 수열의 길이를 출력한다.\n",
    "\n",
    "## 문제 풀이\n",
    "\n",
    "- 리스트를 만들어서 맨 뒤의 값과 비교하여 더 크면 넣는다.\n",
    "- 비교 후 크지 않으면 이전의 값 중 오름차순으로 들어갈 수 있는 곳과 대치한다."
   ]
  },
  {
   "cell_type": "code",
   "execution_count": 12,
   "id": "c83fee98",
   "metadata": {},
   "outputs": [
    {
     "name": "stdout",
     "output_type": "stream",
     "text": [
      "6\n",
      "10 20 10 30 20 50\n",
      "4\n"
     ]
    }
   ],
   "source": [
    "n = int(input())\n",
    "a = list(map(int,input().split()))\n",
    "\n",
    "# 리스트를 만들어서 맨 뒤의 값과 비교하여 더 크면 넣는다.\n",
    "# 비교 후 크지 않으면 이전의 값 중 오름차순으로 들어갈 수 있는 곳과 대치한다.\n",
    "lst = [0]\n",
    "\n",
    "for i in a:\n",
    "    if i > lst[-1]:\n",
    "        lst.append(i)\n",
    "    else:\n",
    "        start = 1\n",
    "        end = len(lst) - 1\n",
    "        while start < end:\n",
    "            mid = (start + end) // 2\n",
    "            if i < lst[mid]:\n",
    "                end = mid\n",
    "            elif i > lst[mid]:\n",
    "                start = mid + 1\n",
    "            else:\n",
    "                end = mid\n",
    "                start = end+1\n",
    "        lst[end] = i\n",
    "print(len(lst) - 1)"
   ]
  }
 ],
 "metadata": {
  "kernelspec": {
   "display_name": "Python 3 (ipykernel)",
   "language": "python",
   "name": "python3"
  },
  "language_info": {
   "codemirror_mode": {
    "name": "ipython",
    "version": 3
   },
   "file_extension": ".py",
   "mimetype": "text/x-python",
   "name": "python",
   "nbconvert_exporter": "python",
   "pygments_lexer": "ipython3",
   "version": "3.8.13"
  }
 },
 "nbformat": 4,
 "nbformat_minor": 5
}
