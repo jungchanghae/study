{
 "cells": [
  {
   "cell_type": "markdown",
   "id": "c76762a0",
   "metadata": {},
   "source": [
    "## 2004번 조합의 개수\n",
    "\n",
    "### 문제\n",
    "#### nCm의 끝자리 0의 개수를 출력하는 프로그램을 작성하시오.\n",
    "\n",
    "### 입력\n",
    "#### 첫째 줄에 정수 n, m이 들어온다.\n",
    "\n",
    "### 출력\n",
    "#### 첫째 줄에 nCm의 끝자리 0의 개수를 출력한다.\n"
   ]
  },
  {
   "cell_type": "markdown",
   "id": "e4748662",
   "metadata": {},
   "source": [
    "### \n문제 접근\n",
    "\n",
    "#### nCm = n! / (m! * (n-m)!) 임을 이용해서\n",
    "#### n!의 0의 개수에서 m!과 (n-m)!의 0의 개수를 빼면 된다고 생각했다.\n"
   ]
  },
  {
   "cell_type": "markdown",
   "id": "4404d80f",
   "metadata": {},
   "source": [
    "### 문제 발생\n",
    "#### 1676번 문제 (팩토리얼 0의 개수)를 푼 방식을 이용하려했다.\n",
    "#### 팩토리얼은 2의 개수가 5의 개수보다 무조건 많기 때문에 5의 개수만 구했다. (이전 수를 모두 곱하는 팩토리얼의 특징)\n",
    "\n",
    "#### 하지만 조합에서는 5의 개수만 세면 안되는 문제가 발생했다.\n",
    "#### 예) 125C1 = 125 인 경우\n",
    "#### 125의 5의 개수 31, 1의 5의 개수 0, 124의 5의 개수 28로 31-28-0 = 3 하지만, 125의 0의 개수는 0이다.\n",
    "\n",
    "#### 그래서 2의 개수도 세야한다라고 생각하게 됨\n",
    "\n",
    "### 이유\n",
    "#### 문제가 풀리지 않았던 이유는 나눗셈에 있었다. \n",
    "#### 10을 만들어서 나눠진다고 생각했지만, 더 많은 개수라도 모두 약분이 되면 안되는 것이었다.\n",
    "#### 즉,  2 와 5 중에 적은 개수만 찾으면 되는 것이 아니었다.\n",
    "#### 그래서 2의 개수와 5의 개수 중 더 적은 것을 찾으면 끝!\n"
   ]
  },
  {
   "cell_type": "markdown",
   "id": "c81afebb",
   "metadata": {},
   "source": [
    "## 코드"
   ]
  },
  {
   "cell_type": "code",
   "execution_count": 2,
   "id": "69e71021",
   "metadata": {},
   "outputs": [],
   "source": [
    "# i가 들어있는 숫자의 개수\n",
    "def count_num(num,i):\n",
    "    cnt = 0\n",
    "    while num > 0:\n",
    "        num //= i\n",
    "        cnt += num\n",
    "    return cnt"
   ]
  },
  {
   "cell_type": "code",
   "execution_count": 3,
   "id": "986f5338",
   "metadata": {
    "scrolled": true
   },
   "outputs": [
    {
     "name": "stdout",
     "output_type": "stream",
     "text": [
      "25 12\n",
      "2\n"
     ]
    }
   ],
   "source": [
    "n, m = map(int, input().split())\n",
    "\n",
    "count_2 = count_num(n,2) - count_num(m,2) - count_num(n-m,2) # 2의 개수\n",
    "count_5 = count_num(n,5) - count_num(m,5) - count_num(n-m,5) # 5의 개수\n",
    "\n",
    "print(min(count_2,count_5))"
   ]
  }
 ],
 "metadata": {
  "kernelspec": {
   "display_name": "Python 3 (ipykernel)",
   "language": "python",
   "name": "python3"
  },
  "language_info": {
   "codemirror_mode": {
    "name": "ipython",
    "version": 3
   },
   "file_extension": ".py",
   "mimetype": "text/x-python",
   "name": "python",
   "nbconvert_exporter": "python",
   "pygments_lexer": "ipython3",
   "version": "3.8.12"
  }
 },
 "nbformat": 4,
 "nbformat_minor": 5
}
